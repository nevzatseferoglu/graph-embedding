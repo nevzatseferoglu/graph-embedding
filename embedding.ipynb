{
 "nbformat": 4,
 "nbformat_minor": 0,
 "metadata": {
  "colab": {
   "provenance": [],
   "authorship_tag": "ABX9TyNekQplTVPvYsBmrAtF3Qqo",
   "include_colab_link": true
  },
  "kernelspec": {
   "name": "python3",
   "display_name": "Python 3"
  },
  "language_info": {
   "name": "python"
  }
 },
 "cells": [
  {
   "cell_type": "markdown",
   "source": [
    "## List comprehension exercises"
   ],
   "metadata": {
    "collapsed": false
   }
  },
  {
   "cell_type": "code",
   "execution_count": null,
   "outputs": [],
   "source": [
    "def is_even(i):\n",
    "    return i%2 == 0\n",
    "zero_odd_list = [1 if is_even(i) else 0 for i in range(100)]\n",
    "out = [f'{i} is {\"even\" if j == 0 else \"odd\"}' for i, j in enumerate(zero_odd_list)]\n",
    "_ = [print(i) for i in out]"
   ],
   "metadata": {
    "collapsed": false
   }
  }
 ]
}
