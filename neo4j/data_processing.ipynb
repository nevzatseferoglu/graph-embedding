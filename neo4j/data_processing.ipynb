{
 "cells": [
  {
   "cell_type": "code",
   "execution_count": 14,
   "id": "b35d014e",
   "metadata": {},
   "outputs": [],
   "source": [
    "'''\n",
    "Source: https://relational.fit.cvut.cz/dataset/CORA\n",
    "Convert cora dataset which is published as a sort of database to into csv files.\n",
    "'''\n",
    "\n",
    "import os\n",
    "import concurrent.futures\n",
    "import pandas as pd\n",
    "import sqlalchemy\n",
    "\n",
    "# database credentials\n",
    "USER=\"guest\"\n",
    "PASSWORD=\"relational\"\n",
    "HOST=\"relational.fit.cvut.cz\"\n",
    "PORT=3306\n",
    "DATABASE=\"CORA\"\n",
    "COUNT_LABELED_WORD=1434 # capacity of the labeled words for each publication\n",
    "\n",
    "engine = sqlalchemy.create_engine(f\"mariadb://{USER}:{PASSWORD}@{HOST}:{PORT}/{DATABASE}\",\n",
    "    pool_size=10, max_overflow=20)"
   ]
  },
  {
   "cell_type": "markdown",
   "id": "55af65f1",
   "metadata": {},
   "source": [
    "Convert cites table into edges.csv. cited_paper_id is target node. citing_paper_id is source node."
   ]
  },
  {
   "cell_type": "code",
   "execution_count": 15,
   "id": "4418602f",
   "metadata": {},
   "outputs": [],
   "source": [
    "if not os.path.exists(\"dataset\"):\n",
    "    os.mkdir(os.path.join(os.getcwd(), \"dataset\"), mode=0o777)\n",
    "df_edges = pd.read_sql(\"select * from cites\", engine)\n",
    "df_edges.to_csv(\"dataset/edges.csv\", index=False)"
   ]
  },
  {
   "cell_type": "markdown",
   "id": "b5d35d77",
   "metadata": {},
   "source": [
    "Extract the node features from both paper and content tables. Words which are stored in content table are gathered based on paper_id type. At the end, each paper_id has array of words. At the end, those paper properties are gathered and converted into nodes.csv.\n",
    "\n",
    "Note: Operation can take a little long time (should be less than a minute with 4 CPU cores) because of the processing of more ~1500 words for each paper."
   ]
  },
  {
   "cell_type": "code",
   "execution_count": 16,
   "id": "41079351",
   "metadata": {},
   "outputs": [],
   "source": [
    "# supposed that given paper_id is unique for each call\n",
    "def extract(paper_id, word_count, gd):\n",
    "    words_query = \"select word_cited_id from content where paper_id = %s\"\n",
    "    df_words = pd.read_sql_query(words_query, engine, params=(paper_id,))\n",
    "    gd[paper_id] = [0]*word_count\n",
    "    for word in df_words['word_cited_id']:\n",
    "        word_id = (lambda x: int(x.split(\"word\")[1]))(word)\n",
    "        gd[paper_id][word_id] = 1\n",
    "\n",
    "d = {}  # dictionary which refers {paper_id: [words]}\n",
    "supportedWordCount = COUNT_LABELED_WORD\n",
    "df_unique_content = pd.read_sql(\"select distinct paper_id from content\", engine)\n",
    "with concurrent.futures.ThreadPoolExecutor(len(df_unique_content)) as executor:\n",
    "    futures = []\n",
    "    for pid in df_unique_content['paper_id']:\n",
    "        params = [pid, supportedWordCount, d]\n",
    "        executor.submit(lambda p: extract(*p), params)\n",
    "        futures.append(executor.submit(lambda p: extract(*p), params))\n",
    "    for future in concurrent.futures.as_completed(futures):\n",
    "        _ = future.result()\n",
    "\n",
    "df_paper = pd.read_sql(\"select * from paper\", engine)\n",
    "paper = list(zip(df_paper.paper_id, df_paper.class_label))\n",
    "data = [{'paper_id': paper_id, 'subject': subject, 'words': d[paper_id]} for paper_id, subject in paper]\n",
    "df_nodes = pd.DataFrame(data, columns=['paper_id', 'subject', 'words'])\n",
    "df_nodes.to_csv(\"dataset/nodes.csv\", index=False)"
   ]
  }
 ],
 "metadata": {
  "kernelspec": {
   "display_name": "Python 3 (ipykernel)",
   "language": "python",
   "name": "python3"
  },
  "language_info": {
   "codemirror_mode": {
    "name": "ipython",
    "version": 3
   },
   "file_extension": ".py",
   "mimetype": "text/x-python",
   "name": "python",
   "nbconvert_exporter": "python",
   "pygments_lexer": "ipython3",
   "version": "3.10.7"
  }
 },
 "nbformat": 4,
 "nbformat_minor": 5
}
