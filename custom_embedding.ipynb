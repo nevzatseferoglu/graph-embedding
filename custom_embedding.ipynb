{
 "cells": [
  {
   "cell_type": "code",
   "execution_count": null,
   "outputs": [],
   "source": [
    "import random\n",
    "import matplotlib.pyplot as plt\n",
    "import networkx as nx\n",
    "import numpy as np\n",
    "import pandas as pd\n",
    "from stellargraph import StellarGraph\n",
    "\n",
    "plt.rcParams['figure.constrained_layout.use'] = True\n",
    "# Unzipping staller graph\n",
    "# try:\n",
    "#     with zipfile.ZipFile('dataset/Cora.zip') as archive:\n",
    "#         archive.extractall('dataset/')\n",
    "# except zipfile.BadZipFile as error:\n",
    "#     print(error)\n",
    "\n",
    "# dataset creation for the homogeneous graph embedding\n",
    "\n",
    "# general properties of the node structure\n",
    "NODE_UNIQUENESS_DEFINITION = {'A', 'B', 'C', 'D', 'E', 'F', 'G'}\n",
    "NODE_SIZE = 2000\n",
    "\n",
    "# generating unique node's ids according to given size\n",
    "from_node_ids = np.random.choice(np.arange(0, NODE_SIZE), replace=False, size=NODE_SIZE)\n",
    "assert len(np.unique(from_node_ids)) == len(from_node_ids)\n",
    "\n",
    "# generate corrosponding edge values\n",
    "def generate_corresponding_edges(fn):\n",
    "    assert fn != None\n",
    "    while True:\n",
    "        tn = random.randint(0, NODE_SIZE)\n",
    "        if fn != tn:\n",
    "            return tn\n",
    "\n",
    "# generate edge list of tuples\n",
    "to_node_ids = np.fromiter(map(generate_corresponding_edges, from_node_ids), int)\n",
    "assert len(to_node_ids) == len(from_node_ids)\n",
    "\n",
    "square_edges = pd.DataFrame({\n",
    "    'source': from_node_ids,\n",
    "    'target': to_node_ids\n",
    "})\n",
    "square = StellarGraph(edges=square_edges)\n",
    "\n",
    "def save_visual_graph(graph, filename):\n",
    "    fig, ax = plt.subplots(num=None, figsize=(20, 20), dpi=60)\n",
    "    plt.axis('off')\n",
    "    pos = nx.spring_layout(graph)\n",
    "    nx.draw_networkx_nodes(graph, pos, node_size=20, node_color='red')\n",
    "    nx.draw_networkx_edges(graph, pos)\n",
    "    nx.draw_networkx_labels(graph,pos)\n",
    "    plt.savefig(filename,bbox_inches=\"tight\")\n",
    "    del fig\n",
    "\n",
    "square_nx = square.to_networkx()\n",
    "save_visual_graph(square_nx, 'custom-homogenous-graph.png');"
   ],
   "metadata": {
    "collapsed": false
   }
  }
 ],
 "metadata": {
  "kernelspec": {
   "display_name": "Python 3",
   "language": "python",
   "name": "python3"
  },
  "language_info": {
   "codemirror_mode": {
    "name": "ipython",
    "version": 2
   },
   "file_extension": ".py",
   "mimetype": "text/x-python",
   "name": "python",
   "nbconvert_exporter": "python",
   "pygments_lexer": "ipython2",
   "version": "2.7.6"
  }
 },
 "nbformat": 4,
 "nbformat_minor": 0
}
