{
  "nbformat": 4,
  "nbformat_minor": 0,
  "metadata": {
    "colab": {
      "provenance": [],
      "authorship_tag": "ABX9TyMvmwVDcxdYBQtJeQvvzTVV",
      "include_colab_link": true
    },
    "kernelspec": {
      "name": "python3",
      "display_name": "Python 3"
    },
    "language_info": {
      "name": "python"
    },
    "gpuClass": "standard"
  },
  "cells": [
    {
      "cell_type": "markdown",
      "metadata": {
        "id": "view-in-github",
        "colab_type": "text"
      },
      "source": [
        "<a href=\"https://colab.research.google.com/github/nevzatseferoglu/graph-embedding/blob/main/custom_embedding.ipynb\" target=\"_parent\"><img src=\"https://colab.research.google.com/assets/colab-badge.svg\" alt=\"Open In Colab\"/></a>"
      ]
    },
    {
      "cell_type": "code",
      "execution_count": null,
      "metadata": {
        "id": "ujzzVVn4ok1I"
      },
      "outputs": [],
      "source": [
        "!python --version\n",
        "!pip install stellargraph\n",
        "\n",
        "import os\n",
        "import random\n",
        "import pickle\n",
        "import json\n",
        "\n",
        "import matplotlib.pyplot as plt\n",
        "import matplotlib.pylab\n",
        "import numpy as np\n",
        "import pandas as pd\n",
        "import networkx as nx\n",
        "\n",
        "from stellargraph import StellarGraph\n",
        "from stellargraph.data import BiasedRandomWalk\n",
        "\n",
        "from sklearn.manifold import TSNE\n",
        "from sklearn.model_selection import train_test_split\n",
        "from sklearn.linear_model import LogisticRegressionCV\n",
        "from sklearn.metrics import accuracy_score\n",
        "\n",
        "from gensim.models import Word2Vec\n",
        "\n",
        "%matplotlib inline\n",
        "plt.rcParams['figure.constrained_layout.use'] = True"
      ]
    },
    {
      "cell_type": "code",
      "source": [
        "# utilities\n",
        "\n",
        "def save_visual_graph(steller_graph, filename):\n",
        "    random_nx = steller_graph.to_networkx()\n",
        "    fig, ax = plt.subplots(num=None, figsize=(15, 15), dpi=60)\n",
        "    plt.axis('off')\n",
        "    pos = nx.spring_layout(random_nx, seed=7)\n",
        "    nx.draw_networkx_nodes(random_nx, pos, node_size=20, node_color='red')\n",
        "    nx.draw_networkx_edges(random_nx, pos, width=0.5)\n",
        "    nx.draw_networkx_labels(random_nx,pos)\n",
        "    plt.savefig(filename, bbox_inches=\"tight\")\n",
        "    del fig\n",
        "\n",
        "def save_graph_dataset(df_nodes, df_edges, nodes_file_output_name='nodes.csv', edges_file_output_name='edges.csv'):\n",
        "    dir_name = 'dataset'\n",
        "    if not os.path.exists(dir_name):\n",
        "        os.makedirs(dir_name)\n",
        "    nodes_csv = os.path.join(dir_name, nodes_file_output_name)\n",
        "    edges_csv = os.path.join(dir_name, edges_file_output_name)\n",
        "    df_nodes.to_csv(nodes_csv)\n",
        "    df_edges.to_csv(edges_csv)\n",
        "\n",
        "def save_model_with_params(params, params_output_name='params.pck'):\n",
        "    dir_name = 'params'\n",
        "    if not os.path.exists(dir_name):\n",
        "        os.makedirs(dir_name)\n",
        "    fullpath = os.path.join(dir_name, params_output_name)\n",
        "    pck = open(fullpath, 'wb')\n",
        "    pickle.dump(params, pck)\n",
        "    pck.close()\n"
      ],
      "metadata": {
        "id": "-E-_nRFQTVV2"
      },
      "execution_count": 92,
      "outputs": []
    },
    {
      "cell_type": "code",
      "source": [
        "# graph component initialization\n",
        "\n",
        "NODE_SIZE = 1000                                                    # node size\n",
        "NODE_FEATURE_TYPE_COLLECTION = {                                    # feature collection\n",
        "    'nf_1': (-1, -2, -3, -4, -5),\n",
        "    'nf_2': (0.1, 0.2, 0.3, 0.4, 0.5)\n",
        "}\n",
        "NODE_FEATURE_1_LOOK_UP = {-1:'A', -2:'B', -3:'C', -4:'D', -5: 'E'} # look-up table for feature  \n",
        "EDGE_WEIGHT_BOUNDARIES = (0.1, 5.0)                                # edge weight\n",
        "NETWORKX_VISUAL_OUTPUT = 'homogenous-graph.png'                    # graph visualization output filepath"
      ],
      "metadata": {
        "id": "8mrhdjOchpUR"
      },
      "execution_count": 93,
      "outputs": []
    },
    {
      "cell_type": "code",
      "source": [
        "# generating edges based on the given feature(s)\n",
        "\n",
        "nf_1_len = len(NODE_FEATURE_TYPE_COLLECTION['nf_1'])\n",
        "nf_2_len = len(NODE_FEATURE_TYPE_COLLECTION['nf_2'])\n",
        "assert nf_1_len == nf_2_len\n",
        "\n",
        "from_node_ids = np.random.choice(np.arange(0, NODE_SIZE, dtype=int), replace=False, size=NODE_SIZE)\n",
        "from_node_ids = np.concatenate((from_node_ids, np.array(NODE_FEATURE_TYPE_COLLECTION['nf_1'])))\n",
        "assert len(np.unique(from_node_ids)) == len(from_node_ids) == NODE_SIZE + nf_1_len\n",
        "\n",
        "nf_1 = np.array([random.choice(NODE_FEATURE_TYPE_COLLECTION['nf_1']) for i in range(NODE_SIZE+nf_1_len)])\n",
        "nf_1[-1*nf_1_len:] = np.full(nf_1_len, 1)\n",
        "nf_2 = np.array([random.choice(NODE_FEATURE_TYPE_COLLECTION['nf_2']) for i in range(NODE_SIZE+nf_2_len)])\n",
        "nf_2[-1*nf_2_len:] = np.full(nf_2_len, 1)\n",
        "\n",
        "# DataFrame new features to the nodes\n",
        "random_node_data = pd.DataFrame(\n",
        "    {'nf_1': nf_1, 'nf_2': nf_2}, index=from_node_ids\n",
        ")\n",
        "\n",
        "# DataFrame describes to connection between nodes\n",
        "random_weighted_edges = pd.DataFrame({\n",
        "    'source': from_node_ids,\n",
        "    'target': nf_1,\n",
        "    'weight': np.random.uniform(low=EDGE_WEIGHT_BOUNDARIES[0], high=EDGE_WEIGHT_BOUNDARIES[1], size=(NODE_SIZE+nf_1_len,))\n",
        "})\n",
        "\n",
        "save_graph_dataset(random_node_data, random_weighted_edges) # export node and edge dataframes as a dataset"
      ],
      "metadata": {
        "id": "qesin7F6o-sL"
      },
      "execution_count": 94,
      "outputs": []
    },
    {
      "cell_type": "code",
      "source": [
        "random_node_data = pd.read_csv('dataset/nodes.csv', index_col=0)        # read nodes dataframe\n",
        "random_weighted_edges = pd.read_csv('dataset/edges.csv', index_col=0)   # read edges dataframe\n",
        "\n",
        "G = StellarGraph(random_node_data, random_weighted_edges)   # initialize Stellar Graph\n",
        "save_visual_graph(G, NETWORKX_VISUAL_OUTPUT)                # export networkx visualization of the stellar graph"
      ],
      "metadata": {
        "id": "Jf1KzHWujY3a"
      },
      "execution_count": null,
      "outputs": []
    },
    {
      "cell_type": "code",
      "source": [
        "params = {\n",
        "    'length': 100,\n",
        "    'n': 10,\n",
        "    'p': 0.5,\n",
        "    'q': 0.5,\n",
        "    'size': 128,\n",
        "    'window': 5,\n",
        "    'min_count': 0,\n",
        "    'sg': 1,\n",
        "    'workers': 2,\n",
        "    'iter': 1,\n",
        "    'model': None,\n",
        "    'graph': G\n",
        "}\n",
        "\n",
        "rw = BiasedRandomWalk(G)    # initalize biased second order random walks\n",
        "walks = rw.run(\n",
        "    nodes=list(G.nodes()),      # root nodes\n",
        "    length=params['length'],    # maximum length of a random walk\n",
        "    n=params['n'],              # number of random walks per root node\n",
        "    p=params['p'],              # Defines (unormalised) probability, 1/p, of returning to source node\n",
        "    q=params['q'],              # Defines (unormalised) probability, 1/q, for moving away from source node\n",
        ")\n",
        "\n",
        "str_walks = [[str(n) for n in walk] for walk in walks]\n",
        "model = Word2Vec(str_walks, \n",
        "                 size=params['size'], \n",
        "                 window=params['window'], \n",
        "                 min_count=params['min_count'], \n",
        "                 sg=params['sg'], \n",
        "                 workers=params['workers'], \n",
        "                 iter=params['iter'])\n",
        "\n",
        "params['model'] = model\n",
        "\n",
        "save_model_with_params(params) # export processed model and its parameters"
      ],
      "metadata": {
        "id": "kr1cDyEaPCAl"
      },
      "execution_count": 96,
      "outputs": []
    },
    {
      "cell_type": "code",
      "source": [
        "with open(\"params/params.pck\", \"rb\") as f:\n",
        "    params = pickle.load(f) # load model and walk parameters from the file\n",
        "    model = params['model']\n",
        "    f.close()\n",
        "\n",
        "node_ids = model.wv.index2word\n",
        "node_embeddings = (         # get the embeddings\n",
        "    model.wv.vectors \n",
        ")\n",
        "\n",
        "random_node_data = pd.read_csv('dataset/nodes.csv', index_col=0)        # read nodes dataframe\n",
        "node_targets = random_node_data['nf_1'][[int(node_id) for node_id in node_ids]]\n",
        "\n",
        "# apply t-SNE transformation on node embeddings\n",
        "tsne = TSNE(n_components=2)\n",
        "node_embeddings_2d = tsne.fit_transform(node_embeddings)\n",
        "alpha = 0.7\n",
        "label_map = {l: i for i, l in enumerate(np.unique(node_targets))}\n",
        "node_colours = [label_map[target] for target in node_targets]"
      ],
      "metadata": {
        "colab": {
          "base_uri": "https://localhost:8080/"
        },
        "id": "FqyuF50pPRPc",
        "outputId": "c23a0443-e0e0-403f-8579-6a568da09ae3"
      },
      "execution_count": 100,
      "outputs": [
        {
          "output_type": "stream",
          "name": "stderr",
          "text": [
            "/usr/local/lib/python3.7/dist-packages/sklearn/manifold/_t_sne.py:783: FutureWarning: The default initialization in TSNE will change from 'random' to 'pca' in 1.2.\n",
            "  FutureWarning,\n",
            "/usr/local/lib/python3.7/dist-packages/sklearn/manifold/_t_sne.py:793: FutureWarning: The default learning rate in TSNE will change from 200.0 to 'auto' in 1.2.\n",
            "  FutureWarning,\n"
          ]
        }
      ]
    },
    {
      "cell_type": "code",
      "source": [
        "fig, ax = plt.subplots(figsize=(10, 8)) # display the TSNE\n",
        "ax.scatter(\n",
        "    node_embeddings_2d[:, 0],           # x axis\n",
        "    node_embeddings_2d[:, 1],           # y axis\n",
        "    c=node_colours,\n",
        "    cmap=\"jet\",\n",
        "    alpha=alpha,\n",
        ")\n",
        "ax.plot(label='Inline label')"
      ],
      "metadata": {
        "id": "ySooK8oYX8Ad"
      },
      "execution_count": null,
      "outputs": []
    }
  ]
}